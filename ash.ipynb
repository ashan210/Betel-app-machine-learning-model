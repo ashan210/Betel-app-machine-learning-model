{
  "cells": [
    {
      "cell_type": "markdown",
      "metadata": {
        "id": "view-in-github",
        "colab_type": "text"
      },
      "source": [
        "<a href=\"https://colab.research.google.com/github/ashan210/Betel-app-machine-learning-model/blob/main/ash.ipynb\" target=\"_parent\"><img src=\"https://colab.research.google.com/assets/colab-badge.svg\" alt=\"Open In Colab\"/></a>"
      ]
    },
    {
      "cell_type": "markdown",
      "metadata": {
        "id": "jptaGq3k1L0c"
      },
      "source": [
        "# Deep Learning with Keras and Tensorflow"
      ]
    },
    {
      "cell_type": "code",
      "source": [
        "!git clone https://github.com/ashan210/Betel-app-machine-learning-model.git"
      ],
      "metadata": {
        "colab": {
          "base_uri": "https://localhost:8080/"
        },
        "id": "81VZpvoYz6nf",
        "outputId": "1af96637-2122-4d66-d871-a03d3905263a"
      },
      "execution_count": 1,
      "outputs": [
        {
          "output_type": "stream",
          "name": "stdout",
          "text": [
            "Cloning into 'Betel-app-machine-learning-model'...\n",
            "remote: Enumerating objects: 3, done.\u001b[K\n",
            "remote: Counting objects: 100% (3/3), done.\u001b[K\n",
            "remote: Total 3 (delta 0), reused 0 (delta 0), pack-reused 0\u001b[K\n",
            "Receiving objects: 100% (3/3), done.\n"
          ]
        }
      ]
    },
    {
      "cell_type": "markdown",
      "metadata": {
        "id": "aYQAC9gW0m6V"
      },
      "source": [
        "## Getting Prepared"
      ]
    },
    {
      "cell_type": "markdown",
      "metadata": {
        "id": "CshxuGBg02Be"
      },
      "source": [
        "Download and extract the dataset"
      ]
    },
    {
      "cell_type": "code",
      "execution_count": null,
      "metadata": {
        "colab": {
          "base_uri": "https://localhost:8080/"
        },
        "id": "LN1ELDdD0vY1",
        "outputId": "78b6c5a3-29ef-4949-dc9e-c1635313516d"
      },
      "outputs": [
        {
          "output_type": "stream",
          "name": "stdout",
          "text": [
            "Mounted at /content/drive\n"
          ]
        }
      ],
      "source": [
        "import os\n",
        "from PIL import Image\n",
        "import numpy as np\n",
        "import cv2\n",
        "import pickle\n",
        "from google.colab import drive\n",
        "drive.mount('/content/drive')\n"
      ]
    },
    {
      "cell_type": "code",
      "execution_count": null,
      "metadata": {
        "colab": {
          "base_uri": "https://localhost:8080/"
        },
        "id": "85ra2G-GrfMx",
        "outputId": "3d8702e1-35c3-483b-c32b-ed12e633cbc7"
      },
      "outputs": [
        {
          "output_type": "stream",
          "name": "stdout",
          "text": [
            "Files in the dataset directory:\n",
            "train_set\n",
            ".git\n",
            "val_set\n",
            "model.pkl\n"
          ]
        }
      ],
      "source": [
        "# Path to the directory containing your dataset in Google Drive\n",
        "dataset_dir = '/content/drive/My Drive/model01.tar/model/'\n",
        "\n",
        "# List files in the dataset directory\n",
        "files = os.listdir('/content/drive/My Drive/model01.tar/model/')\n",
        "\n",
        "# Print the list of files\n",
        "print(\"Files in the dataset directory:\")\n",
        "for file in files:\n",
        "    print(file)"
      ]
    },
    {
      "cell_type": "markdown",
      "metadata": {
        "id": "_yzp6S_t1AE8"
      },
      "source": [
        "Verify that the data is there"
      ]
    },
    {
      "cell_type": "code",
      "execution_count": null,
      "metadata": {
        "id": "HLIwYy7orqZu"
      },
      "outputs": [],
      "source": [
        "from PIL import Image\n",
        "from IPython.display import display"
      ]
    },
    {
      "cell_type": "code",
      "execution_count": null,
      "metadata": {
        "id": "WAXUx0sjrvdm"
      },
      "outputs": [],
      "source": [
        "im = Image.open('/content/drive/My Drive/model01.tar/model/train_set/oil/IMG_20210516_124633.png')"
      ]
    },
    {
      "cell_type": "code",
      "execution_count": null,
      "metadata": {
        "colab": {
          "base_uri": "https://localhost:8080/"
        },
        "id": "9wSG7q88Bokc",
        "outputId": "1c110c70-7ba4-45f5-edd6-de9a4e14227b"
      },
      "outputs": [
        {
          "output_type": "stream",
          "name": "stdout",
          "text": [
            "Collecting tensorboardcolab\n",
            "  Downloading tensorboardcolab-0.0.22.tar.gz (2.5 kB)\n",
            "  Preparing metadata (setup.py) ... \u001b[?25l\u001b[?25hdone\n",
            "Building wheels for collected packages: tensorboardcolab\n",
            "  Building wheel for tensorboardcolab (setup.py) ... \u001b[?25l\u001b[?25hdone\n",
            "  Created wheel for tensorboardcolab: filename=tensorboardcolab-0.0.22-py3-none-any.whl size=3832 sha256=ddf420999769753c1409647c46f143517d27969f4e6f504cf5c51c7bbd0d561f\n",
            "  Stored in directory: /root/.cache/pip/wheels/8d/ee/46/7fe2bbbf1edbcfeabfaf13962dcaadec1f631d11147fd9d34d\n",
            "Successfully built tensorboardcolab\n",
            "Installing collected packages: tensorboardcolab\n",
            "Successfully installed tensorboardcolab-0.0.22\n"
          ]
        }
      ],
      "source": [
        "!pip install tensorboardcolab"
      ]
    },
    {
      "cell_type": "code",
      "execution_count": null,
      "metadata": {
        "id": "KIKx04SVr3tO"
      },
      "outputs": [],
      "source": [
        "#display(im)"
      ]
    },
    {
      "cell_type": "code",
      "execution_count": null,
      "metadata": {
        "colab": {
          "base_uri": "https://localhost:8080/"
        },
        "id": "8P2aTOywSZow",
        "outputId": "09d5a9a4-f431-4e4b-b9b4-c2cc612ba4fd"
      },
      "outputs": [
        {
          "output_type": "execute_result",
          "data": {
            "text/plain": [
              "array([[[206, 207, 209, 255],\n",
              "        [205, 206, 208, 255],\n",
              "        [202, 203, 205, 255],\n",
              "        ...,\n",
              "        [208, 209, 213, 255],\n",
              "        [209, 210, 214, 255],\n",
              "        [208, 209, 213, 255]],\n",
              "\n",
              "       [[201, 202, 204, 255],\n",
              "        [201, 202, 204, 255],\n",
              "        [199, 200, 202, 255],\n",
              "        ...,\n",
              "        [208, 209, 212, 255],\n",
              "        [208, 209, 212, 255],\n",
              "        [206, 207, 210, 255]],\n",
              "\n",
              "       [[200, 201, 203, 255],\n",
              "        [200, 201, 203, 255],\n",
              "        [200, 201, 203, 255],\n",
              "        ...,\n",
              "        [208, 209, 212, 255],\n",
              "        [210, 211, 214, 255],\n",
              "        [210, 211, 213, 255]],\n",
              "\n",
              "       ...,\n",
              "\n",
              "       [[210, 213, 215, 255],\n",
              "        [214, 217, 219, 255],\n",
              "        [217, 220, 222, 255],\n",
              "        ...,\n",
              "        [ 91,  95,  96, 255],\n",
              "        [ 94,  98,  99, 255],\n",
              "        [ 98, 102, 103, 255]],\n",
              "\n",
              "       [[216, 218, 220, 255],\n",
              "        [219, 221, 224, 255],\n",
              "        [220, 222, 225, 255],\n",
              "        ...,\n",
              "        [ 91,  95,  96, 255],\n",
              "        [ 94,  98,  99, 255],\n",
              "        [ 96, 100, 101, 255]],\n",
              "\n",
              "       [[222, 223, 225, 255],\n",
              "        [222, 223, 225, 255],\n",
              "        [221, 222, 225, 255],\n",
              "        ...,\n",
              "        [ 94,  98,  99, 255],\n",
              "        [ 95,  99, 100, 255],\n",
              "        [ 94,  98,  99, 255]]], dtype=uint8)"
            ]
          },
          "metadata": {},
          "execution_count": 7
        }
      ],
      "source": [
        "import numpy as np\n",
        "image_arr = np.array(im)\n",
        "image_arr.shape\n",
        "image_arr"
      ]
    },
    {
      "cell_type": "markdown",
      "metadata": {
        "id": "LHaCWgqe1Gpl"
      },
      "source": [
        "## Module import and variable initialization\n"
      ]
    },
    {
      "cell_type": "code",
      "execution_count": null,
      "metadata": {
        "id": "g1NLl0zpr5Em"
      },
      "outputs": [],
      "source": [
        "import numpy as np\n",
        "import tensorflow as tf\n",
        "from tensorflow import keras\n",
        "from tensorflow.keras import layers\n",
        "from tensorboardcolab import TensorBoardColab, TensorBoardColabCallback\n",
        "from tensorflow.keras.preprocessing.image import ImageDataGenerator\n"
      ]
    },
    {
      "cell_type": "code",
      "execution_count": null,
      "metadata": {
        "id": "XiQl7VpLugsV"
      },
      "outputs": [],
      "source": [
        "# dimensions of our images.\n",
        "img_width, img_height = 128, 128"
      ]
    },
    {
      "cell_type": "code",
      "execution_count": null,
      "metadata": {
        "id": "XaDKAjb0TXUo"
      },
      "outputs": [],
      "source": []
    },
    {
      "cell_type": "code",
      "execution_count": null,
      "metadata": {
        "id": "FFZy9cjzuniD"
      },
      "outputs": [],
      "source": [
        "train_data_dir = '/content/drive/My Drive/model01.tar/model/train_set'\n",
        "validation_data_dir = '/content/drive/My Drive/model01.tar/model/val_set'\n",
        "nb_train_samples = 168\n",
        "nb_validation_samples = 37\n",
        "epochs = 50\n",
        "batch_size = 32"
      ]
    },
    {
      "cell_type": "markdown",
      "metadata": {
        "id": "jXb7swv01guk"
      },
      "source": [
        "## Define the CNN model"
      ]
    },
    {
      "cell_type": "code",
      "execution_count": null,
      "metadata": {
        "id": "rSoc-mPGutHb"
      },
      "outputs": [],
      "source": []
    },
    {
      "cell_type": "code",
      "execution_count": null,
      "metadata": {
        "id": "6_esG1GhmtT1"
      },
      "outputs": [],
      "source": [
        "#New Tensorflow model\n",
        "input_shape = (img_width, img_height, 3)\n",
        "model = tf.keras.Sequential()\n",
        "model.add(tf.keras.layers.Conv2D(32, (3, 3),activation='relu',input_shape=input_shape))\n",
        "model.add(tf.keras.layers.MaxPool2D(pool_size=(2, 2)))\n",
        "model.add(tf.keras.layers.Conv2D(32, (3, 3),activation='relu'))\n",
        "model.add(tf.keras.layers.MaxPool2D(pool_size=(2, 2)))\n",
        "model.add(tf.keras.layers.MaxPool2D(pool_size=(2, 2)))\n",
        "\n",
        "model.add(tf.keras.layers.Conv2D(64, (3, 3),activation='relu'))\n",
        "model.add(tf.keras.layers.MaxPool2D(pool_size=(2, 2)))\n",
        "\n",
        "model.add(tf.keras.layers.Flatten())\n",
        "model.add(tf.keras.layers.Dense(64,activation='relu'))\n",
        "\n",
        "\n",
        "d2 = tf.keras.layers.Dense(64,activation='relu')\n",
        "model.add(d2)\n",
        "\n",
        "model.add(tf.keras.layers.Dropout(0.5))\n",
        "d3 =  tf.keras.layers.Dense(3,activation='softmax')\n",
        "model.add(d3)\n",
        "\n",
        "\n"
      ]
    },
    {
      "cell_type": "code",
      "execution_count": null,
      "metadata": {
        "id": "smGkFRrluwiz"
      },
      "outputs": [],
      "source": [
        "model.compile(\n",
        "    loss='categorical_crossentropy',\n",
        "    optimizer='rmsprop',\n",
        "    metrics=['accuracy']\n",
        ")\n",
        "\n"
      ]
    },
    {
      "cell_type": "code",
      "execution_count": null,
      "metadata": {
        "colab": {
          "base_uri": "https://localhost:8080/"
        },
        "id": "ah6cKvCVV9Am",
        "outputId": "320f7e24-7030-4b28-b21b-abade24e69f9"
      },
      "outputs": [
        {
          "output_type": "execute_result",
          "data": {
            "text/plain": [
              "(3,)"
            ]
          },
          "metadata": {},
          "execution_count": 13
        }
      ],
      "source": [
        "weights = d3.get_weights()\n",
        "weights[1].shape"
      ]
    },
    {
      "cell_type": "markdown",
      "metadata": {
        "id": "wAOwEYK74HT_"
      },
      "source": [
        "## Prepare data feeders"
      ]
    },
    {
      "cell_type": "code",
      "execution_count": null,
      "metadata": {
        "id": "EKx2PQ413iTg"
      },
      "outputs": [],
      "source": [
        "# this is the data augmentation configuration we will use for training\n",
        "train_datagen = ImageDataGenerator(\n",
        "    rescale=1. / 255,\n",
        "    shear_range=0.2,\n",
        "    zoom_range=0.2,\n",
        "    horizontal_flip=True\n",
        ")"
      ]
    },
    {
      "cell_type": "code",
      "execution_count": null,
      "metadata": {
        "colab": {
          "base_uri": "https://localhost:8080/"
        },
        "id": "7mlZi2E-u1xr",
        "outputId": "1bf3ad5b-3a4a-4175-c321-ed7a96e40c01"
      },
      "outputs": [
        {
          "output_type": "stream",
          "name": "stdout",
          "text": [
            "Found 168 images belonging to 3 classes.\n",
            "Found 37 images belonging to 3 classes.\n"
          ]
        }
      ],
      "source": [
        "# this is the augmentation configuration we will use for testing:\n",
        "# only rescaling\n",
        "test_datagen = ImageDataGenerator(rescale=1. / 255)\n",
        "\n",
        "train_generator = train_datagen.flow_from_directory(\n",
        "    train_data_dir,\n",
        "    target_size=(img_width, img_height),\n",
        "    batch_size=batch_size,\n",
        "    class_mode='categorical'\n",
        ")\n",
        "\n",
        "validation_generator = test_datagen.flow_from_directory(\n",
        "    validation_data_dir,\n",
        "    target_size=(img_width, img_height),\n",
        "    batch_size=batch_size,\n",
        "    class_mode='categorical'\n",
        ")"
      ]
    },
    {
      "cell_type": "markdown",
      "metadata": {
        "id": "ahDZ1W-f1q_j"
      },
      "source": [
        "## Test the data feeders"
      ]
    },
    {
      "cell_type": "code",
      "execution_count": null,
      "metadata": {
        "colab": {
          "base_uri": "https://localhost:8080/"
        },
        "id": "FtjB6g0B1uiz",
        "outputId": "70944493-10aa-4126-aae1-45561f14799c"
      },
      "outputs": [
        {
          "output_type": "execute_result",
          "data": {
            "text/plain": [
              "array([0., 0., 1.], dtype=float32)"
            ]
          },
          "metadata": {},
          "execution_count": 16
        }
      ],
      "source": [
        "datum = next(train_generator)\n",
        "image_batch, label_batch = datum\n",
        "image_batch.shape\n",
        "k = 3\n",
        "image = image_batch[k, ...]\n",
        "label = label_batch[k, ...]\n",
        "\n",
        "label"
      ]
    },
    {
      "cell_type": "code",
      "execution_count": null,
      "metadata": {
        "colab": {
          "base_uri": "https://localhost:8080/",
          "height": 145
        },
        "id": "ZlDeuyZA2FQr",
        "outputId": "ee7bc8b6-4142-49b4-da9e-b61cce8463b1"
      },
      "outputs": [
        {
          "output_type": "display_data",
          "data": {
            "text/plain": [
              "<PIL.Image.Image image mode=RGB size=128x128>"
            ],
            "image/png": "[encoded data removed]"
          },
          "metadata": {}
        }
      ],
      "source": [
        "display(Image.fromarray((image * 255).astype(np.uint8)))"
      ]
    },
    {
      "cell_type": "code",
      "execution_count": null,
      "metadata": {
        "colab": {
          "base_uri": "https://localhost:8080/"
        },
        "id": "rp2oU7j72hJK",
        "outputId": "ca7d2961-1071-49bb-8d70-7281f1fbfc24"
      },
      "outputs": [
        {
          "output_type": "execute_result",
          "data": {
            "text/plain": [
              "(32, 128, 128, 3)"
            ]
          },
          "metadata": {},
          "execution_count": 18
        }
      ],
      "source": [
        "image_batch.shape"
      ]
    },
    {
      "cell_type": "code",
      "execution_count": null,
      "metadata": {
        "id": "A9JCkIuT25N5"
      },
      "outputs": [],
      "source": [
        "\n",
        "\n",
        "import datetime\n",
        "# Load the TensorBoard notebook extension\n",
        "%load_ext tensorboard\n",
        "\n",
        "# Clear any logs from previous runs\n",
        "!rm -rf ./logs/\n",
        "\n",
        "\n",
        "log_dir = \"logs/fit/\" + datetime.datetime.now().strftime(\"%Y%m%d-%H%M%S\")\n",
        "tensorboard_callback = tf.keras.callbacks.TensorBoard(log_dir=log_dir, histogram_freq=1)\n",
        "\n"
      ]
    },
    {
      "cell_type": "markdown",
      "metadata": {
        "id": "szCLmqdp4Xo3"
      },
      "source": [
        "## Fit the model"
      ]
    },
    {
      "cell_type": "code",
      "execution_count": null,
      "metadata": {
        "id": "0bM-VA2cu5Ky"
      },
      "outputs": [],
      "source": [
        "# tbc = TensorBoardColab()\n",
        "#model.fit(\n",
        "   # train_generator,\n",
        "    #steps_per_epoch=nb_train_samples // batch_size,\n",
        "    #epochs=epochs,\n",
        "    #validation_data=validation_generator,\n",
        "    #validation_steps=nb_validation_samples // batch_size,\n",
        "    #callbacks = [tensorboard_callback]\n",
        "#)"
      ]
    },
    {
      "cell_type": "code",
      "execution_count": null,
      "metadata": {
        "id": "Zfl8CelGmUXd"
      },
      "outputs": [],
      "source": [
        "# Save the trained model using pickle\n",
        "model_path = '/content/drive/My Drive/model01.tar/model/model.pkl'\n",
        "with open(model_path, 'wb') as f:\n",
        "    pickle.dump(model, f)"
      ]
    },
    {
      "cell_type": "code",
      "execution_count": null,
      "metadata": {
        "colab": {
          "base_uri": "https://localhost:8080/"
        },
        "id": "abygUHXnmZ4Y",
        "outputId": "f6a9942c-d2d1-4eba-f85f-fe85cdb5e700"
      },
      "outputs": [
        {
          "output_type": "stream",
          "name": "stderr",
          "text": [
            "WARNING:absl:Skipping variable loading for optimizer 'RMSprop', because it has 13 variables whereas the saved optimizer has 1 variables. \n"
          ]
        }
      ],
      "source": [
        "# Load the saved model using pickle\n",
        "with open(model_path, 'rb') as f:\n",
        "    loaded_model = pickle.load(f)"
      ]
    },
    {
      "cell_type": "code",
      "execution_count": null,
      "metadata": {
        "id": "yUv_YQ36_hul"
      },
      "outputs": [],
      "source": [
        "#%tensorboard --logdir logs/fit\n",
        "\n"
      ]
    },
    {
      "cell_type": "markdown",
      "metadata": {
        "id": "69Vlh4LQ4mZu"
      },
      "source": [
        "## Save the weights"
      ]
    },
    {
      "cell_type": "code",
      "execution_count": null,
      "metadata": {
        "id": "DChf4PkmxMH0"
      },
      "outputs": [],
      "source": [
        "model.save_weights('saved_weights.h5')"
      ]
    },
    {
      "cell_type": "code",
      "execution_count": null,
      "metadata": {
        "id": "FYFat3A9u9VL"
      },
      "outputs": [],
      "source": [
        "# model.load_weights('source_file.h5')"
      ]
    },
    {
      "cell_type": "markdown",
      "metadata": {
        "id": "me1pVtAG4qDG"
      },
      "source": [
        "## Make predictions with the trained CNN!"
      ]
    },
    {
      "cell_type": "code",
      "execution_count": null,
      "metadata": {
        "id": "UpCSIaB04tgS"
      },
      "outputs": [],
      "source": [
        "# Load the image\n",
        "im = Image.open('/content/drive/My Drive/model01.tar/model/val_set/healthy/PB-S-006.png')\n"
      ]
    },
    {
      "cell_type": "code",
      "execution_count": null,
      "metadata": {
        "id": "D44ONQODgU6I"
      },
      "outputs": [],
      "source": [
        "# Convert the image to RGB if it has an alpha channel\n",
        "im = im.convert('RGB')"
      ]
    },
    {
      "cell_type": "code",
      "execution_count": null,
      "metadata": {
        "id": "Zvzy6yDVgZGH"
      },
      "outputs": [],
      "source": [
        "# Resize the image to 128x128\n",
        "resized_im = im.resize((128, 128))"
      ]
    },
    {
      "cell_type": "code",
      "execution_count": null,
      "metadata": {
        "id": "tSCiMNDKgkI0"
      },
      "outputs": [],
      "source": [
        "# Convert image to numpy array and normalize\n",
        "img = np.array(resized_im) / 255."
      ]
    },
    {
      "cell_type": "code",
      "execution_count": null,
      "metadata": {
        "colab": {
          "base_uri": "https://localhost:8080/"
        },
        "id": "ca7ZPeoRgnVk",
        "outputId": "33d54b27-eb81-45dd-e6cf-141ceef69cb5"
      },
      "outputs": [
        {
          "output_type": "stream",
          "name": "stdout",
          "text": [
            "Original image shape: (128, 128, 3)\n"
          ]
        }
      ],
      "source": [
        "# Check the shape of the image\n",
        "print(\"Original image shape:\", img.shape)\n"
      ]
    },
    {
      "cell_type": "code",
      "execution_count": null,
      "metadata": {
        "id": "WkgOwoqbgoaW"
      },
      "outputs": [],
      "source": [
        "# Add a batch dimension\n",
        "img = img[np.newaxis, ...]"
      ]
    },
    {
      "cell_type": "code",
      "execution_count": null,
      "metadata": {
        "colab": {
          "base_uri": "https://localhost:8080/"
        },
        "id": "IGD_vI5Dg0hQ",
        "outputId": "e39d7fe3-8b1c-41ba-82e3-74c52daa54b8"
      },
      "outputs": [
        {
          "output_type": "stream",
          "name": "stdout",
          "text": [
            "Image shape with batch dimension: (1, 128, 128, 3)\n"
          ]
        }
      ],
      "source": [
        "# Check the shape after adding batch dimension\n",
        "print(\"Image shape with batch dimension:\", img.shape)\n"
      ]
    },
    {
      "cell_type": "code",
      "execution_count": null,
      "metadata": {
        "id": "Cf-N87Kvg1kP"
      },
      "outputs": [],
      "source": [
        "# Now you can pass this img to your model for prediction\n",
        "out = model.predict_on_batch(img)\n"
      ]
    },
    {
      "cell_type": "code",
      "execution_count": null,
      "metadata": {
        "colab": {
          "base_uri": "https://localhost:8080/"
        },
        "id": "QXi5BfvhRENo",
        "outputId": "9017c316-9490-46a7-aec0-98c1b29e87aa"
      },
      "outputs": [
        {
          "output_type": "execute_result",
          "data": {
            "text/plain": [
              "array([[0.32261628, 0.30588886, 0.37149486]], dtype=float32)"
            ]
          },
          "metadata": {},
          "execution_count": 34
        }
      ],
      "source": [
        "out"
      ]
    },
    {
      "cell_type": "code",
      "execution_count": null,
      "metadata": {
        "colab": {
          "base_uri": "https://localhost:8080/"
        },
        "id": "5DKhADv3RLJD",
        "outputId": "eb993a4f-87d3-4cb8-e7fb-d4c07f4134b0"
      },
      "outputs": [
        {
          "output_type": "execute_result",
          "data": {
            "text/plain": [
              "1.0"
            ]
          },
          "metadata": {},
          "execution_count": 35
        }
      ],
      "source": [
        "np.sum(out)"
      ]
    },
    {
      "cell_type": "code",
      "execution_count": null,
      "metadata": {
        "colab": {
          "base_uri": "https://localhost:8080/"
        },
        "id": "AhAg6KZ5RUzx",
        "outputId": "17056967-181d-445f-d308-3d1a1f0f47c6"
      },
      "outputs": [
        {
          "output_type": "execute_result",
          "data": {
            "text/plain": [
              "2"
            ]
          },
          "metadata": {},
          "execution_count": 36
        }
      ],
      "source": [
        "np.argmax(out)"
      ]
    },
    {
      "cell_type": "code",
      "execution_count": null,
      "metadata": {
        "colab": {
          "base_uri": "https://localhost:8080/"
        },
        "id": "ngmLyqjAhuWz",
        "outputId": "2629394c-e17f-43ba-c6b6-c0f2ef1748fb"
      },
      "outputs": [
        {
          "output_type": "stream",
          "name": "stdout",
          "text": [
            "Sum of predictions: 1.0\n"
          ]
        }
      ],
      "source": [
        "# Print the sum of predictions\n",
        "print(\"Sum of predictions:\", np.sum(out))"
      ]
    },
    {
      "cell_type": "code",
      "execution_count": null,
      "metadata": {
        "colab": {
          "base_uri": "https://localhost:8080/"
        },
        "id": "Nblorx9jhxIY",
        "outputId": "005c81be-f41d-440d-e846-03f169336836"
      },
      "outputs": [
        {
          "output_type": "stream",
          "name": "stdout",
          "text": [
            "Index of the highest prediction: 2\n"
          ]
        }
      ],
      "source": [
        "# Get the index of the highest prediction\n",
        "print(\"Index of the highest prediction:\", np.argmax(out))"
      ]
    },
    {
      "cell_type": "code",
      "execution_count": null,
      "metadata": {
        "id": "dLXdD5RbSzrQ"
      },
      "outputs": [],
      "source": [
        "# Map output values to corresponding labels\n",
        "label_mapping = {\n",
        "    0: 'healthy',\n",
        "    1: 'oil',\n",
        "    2: 'other'\n",
        "}"
      ]
    },
    {
      "cell_type": "code",
      "execution_count": null,
      "metadata": {
        "id": "aHE0M5spS133"
      },
      "outputs": [],
      "source": [
        "# Get the index of the highest prediction\n",
        "prediction_index = np.argmax(out)"
      ]
    },
    {
      "cell_type": "code",
      "execution_count": null,
      "metadata": {
        "id": "zf-LN7dwS6QS"
      },
      "outputs": [],
      "source": [
        "# Get the corresponding label\n",
        "prediction_label = label_mapping.get(prediction_index, 'unknown')"
      ]
    },
    {
      "cell_type": "code",
      "execution_count": null,
      "metadata": {
        "colab": {
          "base_uri": "https://localhost:8080/"
        },
        "id": "irXp434iS-lm",
        "outputId": "875db2e7-7325-4ec9-e88d-a45b74fcf0b6"
      },
      "outputs": [
        {
          "output_type": "stream",
          "name": "stdout",
          "text": [
            "Prediction: other\n"
          ]
        }
      ],
      "source": [
        "# Print the prediction label\n",
        "print(\"Prediction:\", prediction_label)"
      ]
    },
    {
      "cell_type": "code",
      "source": [
        "converter = tf.lite.TFLiteConverter.from_keras_model(model)\n",
        "tflite_model = converter.convert()\n",
        "\n",
        "with open(\"model.tflite\", 'wb') as f:\n",
        "  f.write(tflite_model)"
      ],
      "metadata": {
        "id": "zuVZNDuUBjJz"
      },
      "execution_count": null,
      "outputs": []
    }
  ],
  "metadata": {
    "accelerator": "GPU",
    "colab": {
      "gpuType": "T4",
      "provenance": [],
      "include_colab_link": true
    },
    "kernelspec": {
      "display_name": "Python 3",
      "name": "python3"
    }
  },
  "nbformat": 4,
  "nbformat_minor": 0
}